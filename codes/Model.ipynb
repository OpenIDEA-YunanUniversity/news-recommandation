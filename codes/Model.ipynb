{
 "cells": [
  {
   "cell_type": "code",
   "execution_count": 2,
   "metadata": {
    "ExecuteTime": {
     "end_time": "2019-03-28T16:21:34.854511Z",
     "start_time": "2019-03-28T16:21:34.835278Z"
    }
   },
   "outputs": [],
   "source": [
    "import os\n",
    "import sys\n",
    "\n",
    "import numpy as np\n",
    "import pandas as pd\n",
    "import tensorflow as tf\n",
    "from matplotlib import pyplot as plt\n",
    "from sklearn.metrics import make_scorer\n",
    "from sklearn.model_selection import StratifiedKFold\n",
    "import utils\n",
    "from sklearn.utils import shuffle\n",
    "from metrics import gini_norm\n",
    "from DeepFM import DeepFM\n",
    "from DataReader import FeatureDictionary, DataParser\n",
    "gini_scorer = make_scorer(gini_norm, greater_is_better=True, needs_proba=True)\n",
    "from sklearn.metrics import accuracy_score"
   ]
  },
  {
   "cell_type": "code",
   "execution_count": 75,
   "metadata": {
    "ExecuteTime": {
     "end_time": "2019-03-28T18:09:23.212639Z",
     "start_time": "2019-03-28T18:09:23.151761Z"
    }
   },
   "outputs": [],
   "source": [
    "# params\n",
    "dfm_params = {\n",
    "    \"use_fm\": True,\n",
    "    \"use_deep\": True,\n",
    "    \"embedding_size\": 8,\n",
    "    \"dropout_fm\": [1.0, 1.0],\n",
    "    \"deep_layers\": [32, 32],\n",
    "    \"dropout_deep\": [0.5, 0.5, 0.5],\n",
    "    \"deep_layers_activation\": tf.nn.relu,\n",
    "    \"epoch\": 10,\n",
    "    \"batch_size\": 1024,\n",
    "    \"learning_rate\": 0.001,\n",
    "    \"optimizer_type\": \"adam\",\n",
    "    \"batch_norm\": 1,\n",
    "    \"batch_norm_decay\": 0.995,\n",
    "    \"l2_reg\": 0.01,\n",
    "    \"verbose\": True,\n",
    "    \"eval_metric\": gini_norm\n",
    "}\n",
    "\n",
    "\n",
    "def _run_base_model_dfm(dfTrain, dfTest, folds, dfm_params,numeric_cols):\n",
    "    fd = FeatureDictionary(dfTrain=dfTrain, dfTest=dfTest,numeric_cols=numeric_cols)\n",
    "    data_parser = DataParser(feat_dict=fd)\n",
    "    Xi_train, Xv_train, y_train = data_parser.parse(df=dfTrain, has_label=True)\n",
    "    Xi_test, Xv_test, y_test = data_parser.parse(df=dfTest,has_label=True)\n",
    "    dfm_params[\"feature_size\"] = fd.feat_dim\n",
    "    dfm_params[\"field_size\"] = len(Xi_train[0])\n",
    "    dfm = DeepFM(**dfm_params)\n",
    "    \n",
    "    \n",
    "    \n",
    "    dfm.fit(Xi_train, Xv_train, y_train,early_stopping=True)\n",
    "    pred = dfm.predict(Xi_test,Xv_test)\n",
    "    print(len(y_test))\n",
    "    \n",
    "    y_pred = []\n",
    "    for item in pred:\n",
    "        if(item>=0.5):y_pred.append(1)\n",
    "        else:y_pred.append(0)\n",
    "    return y_test,y_pred"
   ]
  },
  {
   "cell_type": "code",
   "execution_count": 87,
   "metadata": {
    "ExecuteTime": {
     "end_time": "2019-03-28T18:20:06.386280Z",
     "start_time": "2019-03-28T18:19:55.221711Z"
    }
   },
   "outputs": [
    {
     "name": "stdout",
     "output_type": "stream",
     "text": [
      "load data success\n",
      "           id  click_article_id  target         0         1         2  \\\n",
      "11874  137616            289003       1 -0.866647 -0.977833  0.133551   \n",
      "23165   75233            283009       0 -0.397132 -0.956699 -0.781852   \n",
      "\n",
      "              3         4         5         6    ...          240       241  \\\n",
      "11874 -0.891685 -0.816009 -0.258980  0.375519    ...    -0.216694  0.613482   \n",
      "23165 -0.662407 -0.906118 -0.844351  0.766803    ...    -0.384559 -0.411390   \n",
      "\n",
      "            242       243       244       245       246       247       248  \\\n",
      "11874 -0.786207  0.271031  0.069902 -0.303642  0.458376  0.562723 -0.022085   \n",
      "23165 -0.200674 -0.443566  0.227839  0.471119 -0.337462  0.723471  0.027905   \n",
      "\n",
      "            249  \n",
      "11874  0.775234  \n",
      "23165  0.841124  \n",
      "\n",
      "[2 rows x 253 columns]\n"
     ]
    }
   ],
   "source": [
    "\n",
    "data = utils.generate_training_data()\n",
    "data = data.rename(columns={'label':'target','user_id':'id'})\n",
    "print('load data success')\n",
    "    \n",
    "data = shuffle(data)\n",
    "#data = data.iloc[:,:]\n",
    "print(data[:2])\n",
    "\n",
    "train = data[:int(0.7*data.shape[0])]\n",
    "test = data[int(0.7*data.shape[0]):]\n",
    "    \n",
    "y_train = train['target']\n",
    "X_train = train.drop(['id','target'],axis=1)\n",
    "numerical_line = train.drop(['target','id','click_article_id'],axis=1).columns.tolist()\n",
    "folds = list(StratifiedKFold(n_splits=3, shuffle=True,random_state=42).split(X_train, y_train))"
   ]
  },
  {
   "cell_type": "code",
   "execution_count": 88,
   "metadata": {
    "ExecuteTime": {
     "end_time": "2019-03-28T18:20:09.037572Z",
     "start_time": "2019-03-28T18:20:09.014147Z"
    }
   },
   "outputs": [
    {
     "data": {
      "text/plain": [
       "array([1, 0])"
      ]
     },
     "execution_count": 88,
     "metadata": {},
     "output_type": "execute_result"
    }
   ],
   "source": [
    "train['target'].unique()"
   ]
  },
  {
   "cell_type": "code",
   "execution_count": null,
   "metadata": {
    "ExecuteTime": {
     "end_time": "2019-03-28T18:04:04.211082Z",
     "start_time": "2019-03-28T18:04:04.206239Z"
    }
   },
   "outputs": [],
   "source": []
  },
  {
   "cell_type": "code",
   "execution_count": null,
   "metadata": {
    "ExecuteTime": {
     "end_time": "2019-03-28T18:20:11.449091Z",
     "start_time": "2019-03-28T18:20:11.396870Z"
    }
   },
   "outputs": [],
   "source": []
  },
  {
   "cell_type": "code",
   "execution_count": 93,
   "metadata": {
    "ExecuteTime": {
     "end_time": "2019-03-29T00:34:55.923043Z",
     "start_time": "2019-03-29T00:32:43.273752Z"
    }
   },
   "outputs": [
    {
     "name": "stdout",
     "output_type": "stream",
     "text": [
      "#params: 149120\n",
      "[1] train-result=-0.0524 [14.1 s]\n",
      "[2] train-result=-0.0394 [10.1 s]\n",
      "[3] train-result=-0.0028 [9.8 s]\n",
      "[4] train-result=0.0195 [10.4 s]\n",
      "[5] train-result=0.0486 [10.3 s]\n",
      "[6] train-result=0.0793 [10.1 s]\n",
      "[7] train-result=0.1059 [10.4 s]\n",
      "[8] train-result=0.1302 [10.3 s]\n",
      "[9] train-result=0.1603 [9.8 s]\n",
      "[10] train-result=0.1949 [10.3 s]\n",
      "7800\n"
     ]
    }
   ],
   "source": [
    "y_true,y_pred = _run_base_model_dfm(train,test,folds,dfm_params,numerical_line)"
   ]
  },
  {
   "cell_type": "code",
   "execution_count": null,
   "metadata": {
    "ExecuteTime": {
     "end_time": "2019-03-28T17:47:49.489648Z",
     "start_time": "2019-03-28T17:47:49.438939Z"
    }
   },
   "outputs": [],
   "source": []
  },
  {
   "cell_type": "code",
   "execution_count": null,
   "metadata": {
    "ExecuteTime": {
     "start_time": "2019-03-28T18:20:23.194Z"
    }
   },
   "outputs": [],
   "source": []
  },
  {
   "cell_type": "code",
   "execution_count": 94,
   "metadata": {
    "ExecuteTime": {
     "end_time": "2019-03-29T00:34:57.582496Z",
     "start_time": "2019-03-29T00:34:57.533406Z"
    }
   },
   "outputs": [
    {
     "data": {
      "text/plain": [
       "0.767051282051282"
      ]
     },
     "execution_count": 94,
     "metadata": {},
     "output_type": "execute_result"
    }
   ],
   "source": [
    "accuracy_score(y_true,y_pred)"
   ]
  }
 ],
 "metadata": {
  "kernelspec": {
   "display_name": "Python 3",
   "language": "python",
   "name": "python3"
  },
  "language_info": {
   "codemirror_mode": {
    "name": "ipython",
    "version": 3
   },
   "file_extension": ".py",
   "mimetype": "text/x-python",
   "name": "python",
   "nbconvert_exporter": "python",
   "pygments_lexer": "ipython3",
   "version": "3.6.8"
  },
  "varInspector": {
   "cols": {
    "lenName": 16,
    "lenType": 16,
    "lenVar": 40
   },
   "kernels_config": {
    "python": {
     "delete_cmd_postfix": "",
     "delete_cmd_prefix": "del ",
     "library": "var_list.py",
     "varRefreshCmd": "print(var_dic_list())"
    },
    "r": {
     "delete_cmd_postfix": ") ",
     "delete_cmd_prefix": "rm(",
     "library": "var_list.r",
     "varRefreshCmd": "cat(var_dic_list()) "
    }
   },
   "types_to_exclude": [
    "module",
    "function",
    "builtin_function_or_method",
    "instance",
    "_Feature"
   ],
   "window_display": false
  }
 },
 "nbformat": 4,
 "nbformat_minor": 2
}
